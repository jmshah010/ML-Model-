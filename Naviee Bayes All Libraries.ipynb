{
 "cells": [
  {
   "cell_type": "markdown",
   "id": "65428586-3c5d-45c9-b626-d3f1f777c916",
   "metadata": {},
   "source": [
    "## scikit-learn (sklearn)"
   ]
  },
  {
   "cell_type": "code",
   "execution_count": null,
   "id": "4622d0d1-5391-4234-9b42-2ddc926ccc56",
   "metadata": {},
   "outputs": [],
   "source": [
    "import pandas as pd\n",
    "from sklearn.model_selection import train_test_split\n",
    "from sklearn.naive_bayes import GaussianNB\n",
    "from sklearn.metrics import accuracy_score, classification_report, confusion_matrix\n",
    "\n",
    "# Load dataset from CSV\n",
    "df = pd.read_csv(\"data.csv\")\n",
    "\n",
    "# Define independent (X) and dependent (y) variables\n",
    "X = df.drop(columns=['Target'])  # All features except the target\n",
    "y = df['Target']  # Target variable (classification label)\n",
    "\n",
    "# Split data into training and testing sets\n",
    "X_train, X_test, y_train, y_test = train_test_split(X, y, test_size=0.2, random_state=42)\n",
    "\n",
    "# Train Naïve Bayes model\n",
    "model = GaussianNB()\n",
    "model.fit(X_train, y_train)\n",
    "\n",
    "# Predict\n",
    "y_pred = model.predict(X_test)\n",
    "\n",
    "# Evaluate model\n",
    "print(f\"Accuracy: {accuracy_score(y_test, y_pred)}\")\n",
    "print(\"Classification Report:\\n\", classification_report(y_test, y_pred))\n",
    "print(\"Confusion Matrix:\\n\", confusion_matrix(y_test, y_pred))\n"
   ]
  },
  {
   "cell_type": "markdown",
   "id": "7ade5197-7f41-45bd-ab1a-f3736d1c923f",
   "metadata": {},
   "source": [
    "## Naïve Bayes for Categorical Data (CategoricalNB)"
   ]
  },
  {
   "cell_type": "code",
   "execution_count": null,
   "id": "56e1433b-5c39-45d8-ac93-8653b019dccf",
   "metadata": {},
   "outputs": [],
   "source": [
    "from sklearn.naive_bayes import CategoricalNB\n",
    "\n",
    "# Use CategoricalNB for categorical features\n",
    "model = CategoricalNB()\n",
    "model.fit(X_train, y_train)\n",
    "\n",
    "# Predict\n",
    "y_pred = model.predict(X_test)\n",
    "\n",
    "# Evaluate\n",
    "print(f\"Accuracy: {accuracy_score(y_test, y_pred)}\")\n"
   ]
  },
  {
   "cell_type": "markdown",
   "id": "e12a4bc6-baf8-44df-9dff-bd6e978373bf",
   "metadata": {},
   "source": [
    "## Naïve Bayes for Text Data (NLTK)"
   ]
  },
  {
   "cell_type": "code",
   "execution_count": null,
   "id": "36ce0d7c-4315-47b9-b62a-bcc98a4d4549",
   "metadata": {},
   "outputs": [],
   "source": [
    "import pandas as pd\n",
    "from sklearn.feature_extraction.text import CountVectorizer\n",
    "from sklearn.naive_bayes import MultinomialNB\n",
    "\n",
    "# Load dataset from CSV\n",
    "df = pd.read_csv(\"text_data.csv\")  # Assume a CSV file with columns: \"text\", \"label\"\n",
    "\n",
    "# Convert text into numerical features\n",
    "vectorizer = CountVectorizer()\n",
    "X = vectorizer.fit_transform(df[\"text\"])\n",
    "y = df[\"label\"]\n",
    "\n",
    "# Split data\n",
    "X_train, X_test, y_train, y_test = train_test_split(X, y, test_size=0.2, random_state=42)\n",
    "\n",
    "# Train Naïve Bayes model for text classification\n",
    "model = MultinomialNB()\n",
    "model.fit(X_train, y_train)\n",
    "\n",
    "# Predict\n",
    "y_pred = model.predict(X_test)\n",
    "\n",
    "# Evaluate\n",
    "print(f\"Accuracy: {accuracy_score(y_test, y_pred)}\")\n"
   ]
  },
  {
   "cell_type": "markdown",
   "id": "432b7f95-9af8-4c0a-bf52-8fb70d8c6089",
   "metadata": {},
   "source": [
    "## TensorFlow/Keras Implementation"
   ]
  },
  {
   "cell_type": "code",
   "execution_count": null,
   "id": "a2230cdd-83b5-48ef-be51-6e0dec4db212",
   "metadata": {},
   "outputs": [],
   "source": [
    "import tensorflow_probability as tfp\n",
    "import tensorflow as tf\n",
    "import pandas as pd\n",
    "from sklearn.model_selection import train_test_split\n",
    "\n",
    "# Load dataset from CSV\n",
    "df = pd.read_csv(\"data.csv\")\n",
    "\n",
    "# Prepare dataset\n",
    "X = df.drop(columns=['Target']).values\n",
    "y = df['Target'].values\n",
    "\n",
    "# Split data\n",
    "X_train, X_test, y_train, y_test = train_test_split(X, y, test_size=0.2, random_state=42)\n",
    "\n",
    "# Define Naïve Bayes layer\n",
    "tfd = tfp.distributions\n",
    "naive_bayes_layer = tfd.Normal(loc=tf.Variable(tf.zeros(X_train.shape[1])),\n",
    "                               scale=tfp.util.TransformedVariable(tf.ones(X_train.shape[1]), tfp.bijectors.Softplus()))\n",
    "\n",
    "# Train and evaluate (custom implementation)\n",
    "# Requires additional probability modeling, but TensorFlow is not primarily used for Naïve Bayes.\n"
   ]
  },
  {
   "cell_type": "markdown",
   "id": "fda6009a-8ad0-4037-b159-9993dbb455b1",
   "metadata": {},
   "source": [
    "## **Summary of Libraries for Naïve Bayes**\n",
    "\n",
    "Library\tBest For\n",
    "\n",
    "**sklearn (GaussianNB, MultinomialNB, CategoricalNB)** ->General classification problems\n",
    "\n",
    "**NLTK + sklearn** ->Text classification tasks\n",
    "\n",
    "**TensorFlow/Keras** ->Custom probability-based modeling"
   ]
  }
 ],
 "metadata": {
  "kernelspec": {
   "display_name": "Python 3 (ipykernel)",
   "language": "python",
   "name": "python3"
  },
  "language_info": {
   "codemirror_mode": {
    "name": "ipython",
    "version": 3
   },
   "file_extension": ".py",
   "mimetype": "text/x-python",
   "name": "python",
   "nbconvert_exporter": "python",
   "pygments_lexer": "ipython3",
   "version": "3.11.9"
  }
 },
 "nbformat": 4,
 "nbformat_minor": 5
}
