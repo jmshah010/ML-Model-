{
 "cells": [
  {
   "cell_type": "markdown",
   "id": "3cfd1bef-33fd-4af1-a1e4-556f1634195c",
   "metadata": {
    "jp-MarkdownHeadingCollapsed": true
   },
   "source": [
    "## CSV & XLSX"
   ]
  },
  {
   "cell_type": "code",
   "execution_count": null,
   "id": "69280b67-4fab-465f-8896-acd874aee2b9",
   "metadata": {},
   "outputs": [],
   "source": [
    "# Dealing with CSV\n",
    "import pandas as pd\n",
    "\n",
    "df = pd.read_csv(\"data.csv\")  # Import CSV file\n",
    "print(df.head())\n",
    "\n",
    "# Dealing with XLS and XLSX\n",
    "df = pd.read_excel(\"data.xlsx\", sheet_name=\"Sheet1\")  # Specify sheet if needed\n",
    "print(df.head())\n",
    "\n",
    "\n"
   ]
  },
  {
   "cell_type": "markdown",
   "id": "0928627e-07de-4627-845d-0b8e95d93a9b",
   "metadata": {
    "jp-MarkdownHeadingCollapsed": true
   },
   "source": [
    "## JSON File "
   ]
  },
  {
   "cell_type": "code",
   "execution_count": null,
   "id": "2c5def52-ddac-41fd-9de6-56fc4dbf885c",
   "metadata": {},
   "outputs": [],
   "source": [
    "# Dealing with Json \n",
    "import json\n",
    "\n",
    "df = pd.read_json(\"data.json\")  # Directly read into Pandas DataFrame\n",
    "print(df.head())\n",
    "\n",
    "# If the JSON file has nested data, you may need to normalize it\n",
    "from pandas import json_normalize\n",
    "\n",
    "with open(\"data.json\") as file:\n",
    "    data = json.load(file)\n",
    "df = json_normalize(data)  # Flatten nested JSON\n"
   ]
  },
  {
   "cell_type": "markdown",
   "id": "7cdb057a-7c91-4c41-9e08-d398b6ba161a",
   "metadata": {
    "jp-MarkdownHeadingCollapsed": true
   },
   "source": [
    "## Parequet & PKL"
   ]
  },
  {
   "cell_type": "code",
   "execution_count": null,
   "id": "2dabac7d-d6fa-48a9-ad5f-cc77b0fa6cd8",
   "metadata": {},
   "outputs": [],
   "source": [
    "# Dealing with Parequet \n",
    "df = pd.read_parquet(\"data.parquet\")  # Efficient for large datasets\n",
    "print(df.head())\n",
    "\n",
    "# Dealing with PKL\n",
    "\n",
    "df = pd.read_pickle(\"data.pkl\")\n",
    "print(df.head())"
   ]
  },
  {
   "cell_type": "markdown",
   "id": "bd678912-3c3e-497f-bf8d-2a9ad4223e59",
   "metadata": {
    "jp-MarkdownHeadingCollapsed": true
   },
   "source": [
    "## TXT Files"
   ]
  },
  {
   "cell_type": "code",
   "execution_count": null,
   "id": "a6057a70-c1ed-46d6-981f-f39e285359c0",
   "metadata": {},
   "outputs": [],
   "source": [
    "# Dealing with Text File (.txt, .dat, .log)\n",
    "\n",
    "df = pd.read_csv(\"data.txt\", delimiter=\"\\t\")  # Change delimiter if needed\n",
    "print(df.head())\n"
   ]
  },
  {
   "cell_type": "markdown",
   "id": "932a8aff-f953-4d79-8ee8-487193eeb691",
   "metadata": {
    "jp-MarkdownHeadingCollapsed": true
   },
   "source": [
    "## XML File"
   ]
  },
  {
   "cell_type": "code",
   "execution_count": null,
   "id": "b3e9901b-04bf-4f70-80bc-8a308de097dc",
   "metadata": {},
   "outputs": [],
   "source": [
    "# Dealing with XML File\n",
    "\n",
    "import xml.etree.ElementTree as ET\n",
    "\n",
    "tree = ET.parse(\"data.xml\")\n",
    "root = tree.getroot()\n",
    "\n",
    "# Convert XML to DataFrame\n",
    "data = []\n",
    "for element in root.findall(\".//row\"):\n",
    "    row_data = {child.tag: child.text for child in element}\n",
    "    data.append(row_data)\n",
    "\n",
    "df = pd.DataFrame(data)\n",
    "print(df.head())"
   ]
  },
  {
   "cell_type": "markdown",
   "id": "f82e5f3f-ea90-43e9-9e2e-aa38f0e3d488",
   "metadata": {
    "jp-MarkdownHeadingCollapsed": true
   },
   "source": [
    "## HTML & HDF5"
   ]
  },
  {
   "cell_type": "code",
   "execution_count": null,
   "id": "d49fc646-ddd9-4b44-a582-95bf6da673ad",
   "metadata": {},
   "outputs": [],
   "source": [
    "# Dealing with HTML Table from Web (.html)\n",
    "df_list = pd.read_html(\"https://example.com\")  # Reads all tables into a list\n",
    "df = df_list[0]  # Select the first table\n",
    "print(df.head())\n",
    "\n",
    "\n",
    "# Dealing with HDF5 File (.h5)\n",
    "df = pd.read_hdf(\"data.h5\", key=\"df\")\n",
    "print(df.head())"
   ]
  },
  {
   "cell_type": "markdown",
   "id": "049db95c-f751-495c-804e-27292e2e157f",
   "metadata": {
    "jp-MarkdownHeadingCollapsed": true
   },
   "source": [
    "## SAS File and SQL File"
   ]
  },
  {
   "cell_type": "code",
   "execution_count": null,
   "id": "413e7348-4456-4adf-adb7-fea5afb62aab",
   "metadata": {},
   "outputs": [],
   "source": [
    "# Dealing with SQL Database \n",
    "\n",
    "import sqlite3\n",
    "conn = sqlite3.connect(\"database.db\")  # Connect to SQLite\n",
    "df = pd.read_sql_query(\"SELECT * FROM table_name\", conn)\n",
    "print(df.head())\n",
    "\n",
    "\n",
    "# Dealing with SAS File (.sas7bdat)\n",
    "\n",
    "import pandas as pd\n",
    "df = pd.read_sas(\"data.sas7bdat\")\n",
    "print(df.head())\n",
    "\n",
    "\n"
   ]
  },
  {
   "cell_type": "markdown",
   "id": "21e1d836-c10f-4d3b-a4bd-fdb5547bc281",
   "metadata": {
    "jp-MarkdownHeadingCollapsed": true
   },
   "source": [
    "## DTA File"
   ]
  },
  {
   "cell_type": "code",
   "execution_count": null,
   "id": "03fccf21-4bf6-4b06-8d7c-e4628d9d0d22",
   "metadata": {},
   "outputs": [],
   "source": [
    "# Dealing with DTA File (Stata File - .dta)\n",
    "df = pd.read_stata(\"data.dta\")\n",
    "print(df.head())"
   ]
  }
 ],
 "metadata": {
  "kernelspec": {
   "display_name": "Python 3 (ipykernel)",
   "language": "python",
   "name": "python3"
  },
  "language_info": {
   "codemirror_mode": {
    "name": "ipython",
    "version": 3
   },
   "file_extension": ".py",
   "mimetype": "text/x-python",
   "name": "python",
   "nbconvert_exporter": "python",
   "pygments_lexer": "ipython3",
   "version": "3.11.9"
  }
 },
 "nbformat": 4,
 "nbformat_minor": 5
}
